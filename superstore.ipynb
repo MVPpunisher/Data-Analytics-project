{
 "cells": [
  {
   "cell_type": "markdown",
   "id": "0402b476-35b4-4b72-8e7e-8386ae2e6767",
   "metadata": {},
   "source": [
    "## **DATA ANALSIS PYTHON PROJECT**"
   ]
  },
  {
   "cell_type": "markdown",
   "id": "60230228-7d77-45b4-9aad-032759c51357",
   "metadata": {},
   "source": [
    "#### **Import Libraries**"
   ]
  },
  {
   "cell_type": "code",
   "execution_count": 237,
   "id": "49a9ea67-673b-4e94-ac45-973c6b41a4e7",
   "metadata": {},
   "outputs": [],
   "source": [
    "import pandas as pd\n",
    "import numpy as np\n",
    "import matplotlib.pyplot as plt\n",
    "import seaborn as sns "
   ]
  },
  {
   "cell_type": "markdown",
   "id": "90865f51-ef79-4f0b-9016-e8e5c8d7caaa",
   "metadata": {},
   "source": [
    "### **Improt Raw Data**"
   ]
  },
  {
   "cell_type": "code",
   "execution_count": 238,
   "id": "3488a826-778b-4e60-b7b0-1fbcdec00da3",
   "metadata": {},
   "outputs": [],
   "source": [
    "df = pd.read_csv(\"C:/project/python project/project dataa.csv\")"
   ]
  },
  {
   "cell_type": "markdown",
   "id": "062ee862-7eb5-436d-abfb-367ff671324b",
   "metadata": {},
   "source": [
    "### **Sample Data**"
   ]
  },
  {
   "cell_type": "code",
   "execution_count": 239,
   "id": "ec3a5d72-5d49-4558-954c-497c84c68124",
   "metadata": {},
   "outputs": [
    {
     "data": {
      "text/html": [
       "<div>\n",
       "<style scoped>\n",
       "    .dataframe tbody tr th:only-of-type {\n",
       "        vertical-align: middle;\n",
       "    }\n",
       "\n",
       "    .dataframe tbody tr th {\n",
       "        vertical-align: top;\n",
       "    }\n",
       "\n",
       "    .dataframe thead th {\n",
       "        text-align: right;\n",
       "    }\n",
       "</style>\n",
       "<table border=\"1\" class=\"dataframe\">\n",
       "  <thead>\n",
       "    <tr style=\"text-align: right;\">\n",
       "      <th></th>\n",
       "      <th>Row ID</th>\n",
       "      <th>Order ID</th>\n",
       "      <th>Order Date</th>\n",
       "      <th>Ship Date</th>\n",
       "      <th>Ship Mode</th>\n",
       "      <th>Customer ID</th>\n",
       "      <th>Customer Name</th>\n",
       "      <th>Segment</th>\n",
       "      <th>Country</th>\n",
       "      <th>City</th>\n",
       "      <th>...</th>\n",
       "      <th>Postal Code</th>\n",
       "      <th>Region</th>\n",
       "      <th>Product ID</th>\n",
       "      <th>Category</th>\n",
       "      <th>Name</th>\n",
       "      <th>Product Name</th>\n",
       "      <th>Sales</th>\n",
       "      <th>Quantity</th>\n",
       "      <th>Discount</th>\n",
       "      <th>Profit</th>\n",
       "    </tr>\n",
       "  </thead>\n",
       "  <tbody>\n",
       "    <tr>\n",
       "      <th>0</th>\n",
       "      <td>1</td>\n",
       "      <td>CA-2013-152156</td>\n",
       "      <td>09-11-2013 0.00</td>\n",
       "      <td>12-11-2013 0.00</td>\n",
       "      <td>Second Class</td>\n",
       "      <td>CG-12520</td>\n",
       "      <td>Claire Gute</td>\n",
       "      <td>Consumer</td>\n",
       "      <td>United States</td>\n",
       "      <td>Henderson</td>\n",
       "      <td>...</td>\n",
       "      <td>42420</td>\n",
       "      <td>South</td>\n",
       "      <td>FUR-BO-10001798</td>\n",
       "      <td>Furniture</td>\n",
       "      <td>Bookcases</td>\n",
       "      <td>Bush Somerset Collection Bookcase</td>\n",
       "      <td>261.9600</td>\n",
       "      <td>2</td>\n",
       "      <td>0.00</td>\n",
       "      <td>41.9136</td>\n",
       "    </tr>\n",
       "    <tr>\n",
       "      <th>1</th>\n",
       "      <td>2</td>\n",
       "      <td>CA-2013-152156</td>\n",
       "      <td>09-11-2013 0.00</td>\n",
       "      <td>12-11-2013 0.00</td>\n",
       "      <td>Second Class</td>\n",
       "      <td>CG-12520</td>\n",
       "      <td>Claire Gute</td>\n",
       "      <td>Consumer</td>\n",
       "      <td>United States</td>\n",
       "      <td>Henderson</td>\n",
       "      <td>...</td>\n",
       "      <td>42420</td>\n",
       "      <td>South</td>\n",
       "      <td>FUR-CH-10000454</td>\n",
       "      <td>Furniture</td>\n",
       "      <td>Chairs</td>\n",
       "      <td>Hon Deluxe Fabric Upholstered Stacking Chairs,...</td>\n",
       "      <td>731.9400</td>\n",
       "      <td>3</td>\n",
       "      <td>0.00</td>\n",
       "      <td>219.5820</td>\n",
       "    </tr>\n",
       "    <tr>\n",
       "      <th>2</th>\n",
       "      <td>3</td>\n",
       "      <td>CA-2013-138688</td>\n",
       "      <td>13-06-2013 0.00</td>\n",
       "      <td>17-06-2013 0.00</td>\n",
       "      <td>Second Class</td>\n",
       "      <td>DV-13045</td>\n",
       "      <td>Darrin Van Huff</td>\n",
       "      <td>Corporate</td>\n",
       "      <td>United States</td>\n",
       "      <td>Los Angeles</td>\n",
       "      <td>...</td>\n",
       "      <td>90036</td>\n",
       "      <td>West</td>\n",
       "      <td>OFF-LA-10000240</td>\n",
       "      <td>Office Supplies</td>\n",
       "      <td>Labels</td>\n",
       "      <td>Self-Adhesive Address Labels for Typewriters b...</td>\n",
       "      <td>14.6200</td>\n",
       "      <td>2</td>\n",
       "      <td>0.00</td>\n",
       "      <td>6.8714</td>\n",
       "    </tr>\n",
       "    <tr>\n",
       "      <th>3</th>\n",
       "      <td>4</td>\n",
       "      <td>US-2012-108966</td>\n",
       "      <td>11-10-2012 0.00</td>\n",
       "      <td>18-10-2012 0.00</td>\n",
       "      <td>Standard Class</td>\n",
       "      <td>SO-20335</td>\n",
       "      <td>Sean O'Donnell</td>\n",
       "      <td>Consumer</td>\n",
       "      <td>United States</td>\n",
       "      <td>Fort Lauderdale</td>\n",
       "      <td>...</td>\n",
       "      <td>33311</td>\n",
       "      <td>South</td>\n",
       "      <td>FUR-TA-10000577</td>\n",
       "      <td>Furniture</td>\n",
       "      <td>Tables</td>\n",
       "      <td>Bretford CR4500 Series Slim Rectangular Table</td>\n",
       "      <td>957.5775</td>\n",
       "      <td>5</td>\n",
       "      <td>0.45</td>\n",
       "      <td>-383.0310</td>\n",
       "    </tr>\n",
       "    <tr>\n",
       "      <th>4</th>\n",
       "      <td>5</td>\n",
       "      <td>US-2012-108966</td>\n",
       "      <td>11-10-2012 0.00</td>\n",
       "      <td>18-10-2012 0.00</td>\n",
       "      <td>Standard Class</td>\n",
       "      <td>SO-20335</td>\n",
       "      <td>Sean O'Donnell</td>\n",
       "      <td>Consumer</td>\n",
       "      <td>United States</td>\n",
       "      <td>Fort Lauderdale</td>\n",
       "      <td>...</td>\n",
       "      <td>33311</td>\n",
       "      <td>South</td>\n",
       "      <td>OFF-ST-10000760</td>\n",
       "      <td>Office Supplies</td>\n",
       "      <td>Storage</td>\n",
       "      <td>Eldon Fold 'N Roll Cart System</td>\n",
       "      <td>22.3680</td>\n",
       "      <td>2</td>\n",
       "      <td>0.20</td>\n",
       "      <td>2.5164</td>\n",
       "    </tr>\n",
       "    <tr>\n",
       "      <th>5</th>\n",
       "      <td>6</td>\n",
       "      <td>CA-2011-115812</td>\n",
       "      <td>09-06-2011 0.00</td>\n",
       "      <td>14-06-2011 0.00</td>\n",
       "      <td>Standard Class</td>\n",
       "      <td>BH-11710</td>\n",
       "      <td>Brosina Hoffman</td>\n",
       "      <td>Consumer</td>\n",
       "      <td>United States</td>\n",
       "      <td>Los Angeles</td>\n",
       "      <td>...</td>\n",
       "      <td>90032</td>\n",
       "      <td>West</td>\n",
       "      <td>FUR-FU-10001487</td>\n",
       "      <td>Furniture</td>\n",
       "      <td>Furnishings</td>\n",
       "      <td>Eldon Expressions Wood and Plastic Desk Access...</td>\n",
       "      <td>48.8600</td>\n",
       "      <td>7</td>\n",
       "      <td>0.00</td>\n",
       "      <td>14.1694</td>\n",
       "    </tr>\n",
       "    <tr>\n",
       "      <th>6</th>\n",
       "      <td>7</td>\n",
       "      <td>CA-2011-115812</td>\n",
       "      <td>09-06-2011 0.00</td>\n",
       "      <td>14-06-2011 0.00</td>\n",
       "      <td>Standard Class</td>\n",
       "      <td>BH-11710</td>\n",
       "      <td>Brosina Hoffman</td>\n",
       "      <td>Consumer</td>\n",
       "      <td>United States</td>\n",
       "      <td>Los Angeles</td>\n",
       "      <td>...</td>\n",
       "      <td>90032</td>\n",
       "      <td>West</td>\n",
       "      <td>OFF-AR-10002833</td>\n",
       "      <td>Office Supplies</td>\n",
       "      <td>Art</td>\n",
       "      <td>Newell 322</td>\n",
       "      <td>7.2800</td>\n",
       "      <td>4</td>\n",
       "      <td>0.00</td>\n",
       "      <td>1.9656</td>\n",
       "    </tr>\n",
       "    <tr>\n",
       "      <th>7</th>\n",
       "      <td>8</td>\n",
       "      <td>CA-2011-115812</td>\n",
       "      <td>09-06-2011 0.00</td>\n",
       "      <td>14-06-2011 0.00</td>\n",
       "      <td>Standard Class</td>\n",
       "      <td>BH-11710</td>\n",
       "      <td>Brosina Hoffman</td>\n",
       "      <td>Consumer</td>\n",
       "      <td>United States</td>\n",
       "      <td>Los Angeles</td>\n",
       "      <td>...</td>\n",
       "      <td>90032</td>\n",
       "      <td>West</td>\n",
       "      <td>TEC-PH-10002275</td>\n",
       "      <td>Technology</td>\n",
       "      <td>Phones</td>\n",
       "      <td>Mitel 5320 IP Phone VoIP phone</td>\n",
       "      <td>907.1520</td>\n",
       "      <td>6</td>\n",
       "      <td>0.20</td>\n",
       "      <td>90.7152</td>\n",
       "    </tr>\n",
       "    <tr>\n",
       "      <th>8</th>\n",
       "      <td>9</td>\n",
       "      <td>CA-2011-115812</td>\n",
       "      <td>09-06-2011 0.00</td>\n",
       "      <td>14-06-2011 0.00</td>\n",
       "      <td>Standard Class</td>\n",
       "      <td>BH-11710</td>\n",
       "      <td>Brosina Hoffman</td>\n",
       "      <td>Consumer</td>\n",
       "      <td>United States</td>\n",
       "      <td>Los Angeles</td>\n",
       "      <td>...</td>\n",
       "      <td>90032</td>\n",
       "      <td>West</td>\n",
       "      <td>OFF-BI-10003910</td>\n",
       "      <td>Office Supplies</td>\n",
       "      <td>Binders</td>\n",
       "      <td>DXL Angle-View Binders with Locking Rings by S...</td>\n",
       "      <td>18.5040</td>\n",
       "      <td>3</td>\n",
       "      <td>0.20</td>\n",
       "      <td>5.7825</td>\n",
       "    </tr>\n",
       "    <tr>\n",
       "      <th>9</th>\n",
       "      <td>10</td>\n",
       "      <td>CA-2011-115812</td>\n",
       "      <td>09-06-2011 0.00</td>\n",
       "      <td>14-06-2011 0.00</td>\n",
       "      <td>Standard Class</td>\n",
       "      <td>BH-11710</td>\n",
       "      <td>Brosina Hoffman</td>\n",
       "      <td>Consumer</td>\n",
       "      <td>United States</td>\n",
       "      <td>Los Angeles</td>\n",
       "      <td>...</td>\n",
       "      <td>90032</td>\n",
       "      <td>West</td>\n",
       "      <td>OFF-AP-10002892</td>\n",
       "      <td>Office Supplies</td>\n",
       "      <td>Appliances</td>\n",
       "      <td>Belkin F5C206VTEL 6 Outlet Surge</td>\n",
       "      <td>114.9000</td>\n",
       "      <td>5</td>\n",
       "      <td>0.00</td>\n",
       "      <td>34.4700</td>\n",
       "    </tr>\n",
       "  </tbody>\n",
       "</table>\n",
       "<p>10 rows × 21 columns</p>\n",
       "</div>"
      ],
      "text/plain": [
       "   Row ID        Order ID       Order Date        Ship Date       Ship Mode  \\\n",
       "0       1  CA-2013-152156  09-11-2013 0.00  12-11-2013 0.00    Second Class   \n",
       "1       2  CA-2013-152156  09-11-2013 0.00  12-11-2013 0.00    Second Class   \n",
       "2       3  CA-2013-138688  13-06-2013 0.00  17-06-2013 0.00    Second Class   \n",
       "3       4  US-2012-108966  11-10-2012 0.00  18-10-2012 0.00  Standard Class   \n",
       "4       5  US-2012-108966  11-10-2012 0.00  18-10-2012 0.00  Standard Class   \n",
       "5       6  CA-2011-115812  09-06-2011 0.00  14-06-2011 0.00  Standard Class   \n",
       "6       7  CA-2011-115812  09-06-2011 0.00  14-06-2011 0.00  Standard Class   \n",
       "7       8  CA-2011-115812  09-06-2011 0.00  14-06-2011 0.00  Standard Class   \n",
       "8       9  CA-2011-115812  09-06-2011 0.00  14-06-2011 0.00  Standard Class   \n",
       "9      10  CA-2011-115812  09-06-2011 0.00  14-06-2011 0.00  Standard Class   \n",
       "\n",
       "  Customer ID    Customer Name    Segment        Country             City  \\\n",
       "0    CG-12520      Claire Gute   Consumer  United States        Henderson   \n",
       "1    CG-12520      Claire Gute   Consumer  United States        Henderson   \n",
       "2    DV-13045  Darrin Van Huff  Corporate  United States      Los Angeles   \n",
       "3    SO-20335   Sean O'Donnell   Consumer  United States  Fort Lauderdale   \n",
       "4    SO-20335   Sean O'Donnell   Consumer  United States  Fort Lauderdale   \n",
       "5    BH-11710  Brosina Hoffman   Consumer  United States      Los Angeles   \n",
       "6    BH-11710  Brosina Hoffman   Consumer  United States      Los Angeles   \n",
       "7    BH-11710  Brosina Hoffman   Consumer  United States      Los Angeles   \n",
       "8    BH-11710  Brosina Hoffman   Consumer  United States      Los Angeles   \n",
       "9    BH-11710  Brosina Hoffman   Consumer  United States      Los Angeles   \n",
       "\n",
       "   ... Postal Code  Region       Product ID         Category         Name  \\\n",
       "0  ...       42420   South  FUR-BO-10001798        Furniture    Bookcases   \n",
       "1  ...       42420   South  FUR-CH-10000454        Furniture       Chairs   \n",
       "2  ...       90036    West  OFF-LA-10000240  Office Supplies       Labels   \n",
       "3  ...       33311   South  FUR-TA-10000577        Furniture       Tables   \n",
       "4  ...       33311   South  OFF-ST-10000760  Office Supplies      Storage   \n",
       "5  ...       90032    West  FUR-FU-10001487        Furniture  Furnishings   \n",
       "6  ...       90032    West  OFF-AR-10002833  Office Supplies          Art   \n",
       "7  ...       90032    West  TEC-PH-10002275       Technology       Phones   \n",
       "8  ...       90032    West  OFF-BI-10003910  Office Supplies      Binders   \n",
       "9  ...       90032    West  OFF-AP-10002892  Office Supplies   Appliances   \n",
       "\n",
       "                                        Product Name     Sales  Quantity  \\\n",
       "0                  Bush Somerset Collection Bookcase  261.9600         2   \n",
       "1  Hon Deluxe Fabric Upholstered Stacking Chairs,...  731.9400         3   \n",
       "2  Self-Adhesive Address Labels for Typewriters b...   14.6200         2   \n",
       "3      Bretford CR4500 Series Slim Rectangular Table  957.5775         5   \n",
       "4                     Eldon Fold 'N Roll Cart System   22.3680         2   \n",
       "5  Eldon Expressions Wood and Plastic Desk Access...   48.8600         7   \n",
       "6                                         Newell 322    7.2800         4   \n",
       "7                     Mitel 5320 IP Phone VoIP phone  907.1520         6   \n",
       "8  DXL Angle-View Binders with Locking Rings by S...   18.5040         3   \n",
       "9                   Belkin F5C206VTEL 6 Outlet Surge  114.9000         5   \n",
       "\n",
       "   Discount    Profit  \n",
       "0      0.00   41.9136  \n",
       "1      0.00  219.5820  \n",
       "2      0.00    6.8714  \n",
       "3      0.45 -383.0310  \n",
       "4      0.20    2.5164  \n",
       "5      0.00   14.1694  \n",
       "6      0.00    1.9656  \n",
       "7      0.20   90.7152  \n",
       "8      0.20    5.7825  \n",
       "9      0.00   34.4700  \n",
       "\n",
       "[10 rows x 21 columns]"
      ]
     },
     "execution_count": 239,
     "metadata": {},
     "output_type": "execute_result"
    }
   ],
   "source": [
    "df.head(10)"
   ]
  },
  {
   "cell_type": "markdown",
   "id": "9cfe288c-0729-4442-b36f-baf0f34ad33f",
   "metadata": {},
   "source": [
    "### **Size of Data**"
   ]
  },
  {
   "cell_type": "code",
   "execution_count": 240,
   "id": "65740653-a703-4339-8854-4f485b826217",
   "metadata": {},
   "outputs": [
    {
     "name": "stdout",
     "output_type": "stream",
     "text": [
      "Size of Data: (9994, 21)\n"
     ]
    }
   ],
   "source": [
    "print(\"Size of Data:\", df.shape)"
   ]
  },
  {
   "cell_type": "code",
   "execution_count": 241,
   "id": "656be696-4fbf-4bd9-a948-58f3189bc861",
   "metadata": {},
   "outputs": [
    {
     "data": {
      "text/plain": [
       "Index(['Row ID', 'Order ID', 'Order Date', 'Ship Date', 'Ship Mode',\n",
       "       'Customer ID', 'Customer Name', 'Segment', 'Country', 'City', 'State',\n",
       "       'Postal Code', 'Region', 'Product ID', 'Category', 'Name',\n",
       "       'Product Name', 'Sales', 'Quantity', 'Discount', 'Profit'],\n",
       "      dtype='object')"
      ]
     },
     "execution_count": 241,
     "metadata": {},
     "output_type": "execute_result"
    }
   ],
   "source": [
    "df.columns"
   ]
  },
  {
   "cell_type": "markdown",
   "id": "74be6f38-860d-40c7-8108-f785c9ad5953",
   "metadata": {},
   "source": [
    "### **Data Types**"
   ]
  },
  {
   "cell_type": "code",
   "execution_count": 242,
   "id": "9101eec1-047e-40f6-a4e6-036fc3c0888d",
   "metadata": {},
   "outputs": [
    {
     "data": {
      "text/plain": [
       "Row ID             int64\n",
       "Order ID          object\n",
       "Order Date        object\n",
       "Ship Date         object\n",
       "Ship Mode         object\n",
       "Customer ID       object\n",
       "Customer Name     object\n",
       "Segment           object\n",
       "Country           object\n",
       "City              object\n",
       "State             object\n",
       "Postal Code        int64\n",
       "Region            object\n",
       "Product ID        object\n",
       "Category          object\n",
       "Name              object\n",
       "Product Name      object\n",
       "Sales            float64\n",
       "Quantity           int64\n",
       "Discount         float64\n",
       "Profit           float64\n",
       "dtype: object"
      ]
     },
     "execution_count": 242,
     "metadata": {},
     "output_type": "execute_result"
    }
   ],
   "source": [
    "df.dtypes"
   ]
  },
  {
   "cell_type": "code",
   "execution_count": 243,
   "id": "c502f971-0270-4423-a072-3ef85e69e14b",
   "metadata": {},
   "outputs": [
    {
     "name": "stdout",
     "output_type": "stream",
     "text": [
      "['South' 'West' 'Central' 'East']\n"
     ]
    }
   ],
   "source": [
    "print(df['Region'].unique())"
   ]
  },
  {
   "cell_type": "code",
   "execution_count": 244,
   "id": "401cb87f-05dd-4024-bc9b-50d6a579a983",
   "metadata": {},
   "outputs": [
    {
     "name": "stdout",
     "output_type": "stream",
     "text": [
      "['Consumer' 'Corporate' 'Home Office']\n"
     ]
    }
   ],
   "source": [
    "print(df['Segment'].unique())"
   ]
  },
  {
   "cell_type": "code",
   "execution_count": 245,
   "id": "b2b2fa06-7232-457d-89f9-5c8b9fb40562",
   "metadata": {},
   "outputs": [
    {
     "name": "stdout",
     "output_type": "stream",
     "text": [
      "[261.96  731.94   14.62  ... 437.472  97.98  243.16 ]\n"
     ]
    }
   ],
   "source": [
    "print(df['Sales'].unique())"
   ]
  },
  {
   "cell_type": "code",
   "execution_count": 256,
   "id": "84c76425-4f27-440f-9351-7d7f9dd051b6",
   "metadata": {},
   "outputs": [
    {
     "name": "stdout",
     "output_type": "stream",
     "text": [
      "[0.   0.45 0.2  0.8  0.3  0.5  0.7  0.6  0.32 0.1  0.4  0.15]\n"
     ]
    }
   ],
   "source": [
    "print(df['Discount'].unique())"
   ]
  },
  {
   "cell_type": "code",
   "execution_count": 257,
   "id": "420b7f58-214a-4c43-9d47-7fdb0e493e90",
   "metadata": {},
   "outputs": [],
   "source": [
    "df['Discount'] = df['Discount'].replace({'0': '0',\n",
    "                                       '0.1': '10',\n",
    "                                       '0.15': '10',\n",
    "                                       '0.2': '20',\n",
    "                                       '0.3': '30',\n",
    "                                       '0.32': '30',\n",
    "                                       '0.4': '40',\n",
    "                                       '0.45': '40',\n",
    "                                       '0.5': '50',\n",
    "                                       '0.6': '50',\n",
    "                                       '0.7': '50',\n",
    "                                       '0.8': '50'\n",
    "                                      })"
   ]
  },
  {
   "cell_type": "code",
   "execution_count": 258,
   "id": "0099bdc4-e530-41c2-b50d-4c77b465240d",
   "metadata": {},
   "outputs": [
    {
     "name": "stdout",
     "output_type": "stream",
     "text": [
      "[0.   0.45 0.2  0.8  0.3  0.5  0.7  0.6  0.32 0.1  0.4  0.15]\n"
     ]
    }
   ],
   "source": [
    "print(df['Discount'].unique())"
   ]
  },
  {
   "cell_type": "markdown",
   "id": "c70119cd-e5c6-4805-b71d-d96f0aef1bba",
   "metadata": {},
   "source": [
    "### **Queries**"
   ]
  },
  {
   "cell_type": "code",
   "execution_count": 248,
   "id": "c46bcd8f-6f6d-4160-820d-2b264b63fd15",
   "metadata": {},
   "outputs": [
    {
     "name": "stdout",
     "output_type": "stream",
     "text": [
      "Total Sales: $2,297,201\n",
      "Average Sales: $230\n",
      "No of Item Sold: 9,994\n",
      "Average Quantity: 4\n"
     ]
    }
   ],
   "source": [
    "#Total sales\n",
    "total_sales = df['Sales'].sum()\n",
    "\n",
    "#Average Sales \n",
    "avg_sales = df['Sales'].mean()\n",
    "\n",
    "#No of Item Sold\n",
    "no_of_item_sold = df['Sales'].count()\n",
    "\n",
    "#Average Quantity\n",
    "avg_quantity = df['Quantity'].mean()\n",
    "\n",
    "#Display \n",
    "print(f\"Total Sales: ${total_sales:,.0f}\")\n",
    "print(f\"Average Sales: ${avg_sales:,.0f}\")\n",
    "print(f\"No of Item Sold: {no_of_item_sold:,.0f}\")\n",
    "print(f\"Average Quantity: {avg_quantity:,.0f}\")"
   ]
  },
  {
   "cell_type": "code",
   "execution_count": 249,
   "id": "fc45e42d-d2f9-44d9-9c41-37fd795e4e80",
   "metadata": {},
   "outputs": [],
   "source": [
    "## **CHARTS REQUIREMENT**"
   ]
  },
  {
   "cell_type": "markdown",
   "id": "31a6e283-ba1b-424f-9c39-6a79f188c054",
   "metadata": {},
   "source": [
    "#### **Total Sales by Region**"
   ]
  },
  {
   "cell_type": "code",
   "execution_count": 250,
   "id": "73b1b9c3-aacf-417c-bee6-795dee9a9eea",
   "metadata": {},
   "outputs": [
    {
     "data": {
      "image/png": "[encoded data removed]",
      "text/plain": [
       "<Figure size 640x480 with 1 Axes>"
      ]
     },
     "metadata": {},
     "output_type": "display_data"
    }
   ],
   "source": [
    "sales_by_region = df.groupby('Region')['Sales'].sum()\n",
    "\n",
    "plt.pie(sales_by_region, labels= sales_by_region.index,\n",
    "                         autopct = '%.1f%%',\n",
    "                         startangle = 90)\n",
    "\n",
    "plt.title('Sales by Region')\n",
    "plt.axis('equal')\n",
    "plt.show()"
   ]
  },
  {
   "cell_type": "code",
   "execution_count": 251,
   "id": "25cd8ebf-670f-4dcb-b2e2-fc01cca76d2c",
   "metadata": {},
   "outputs": [
    {
     "data": {
      "image/png": "[encoded data removed]",
      "text/plain": [
       "<Figure size 1000x600 with 1 Axes>"
      ]
     },
     "metadata": {},
     "output_type": "display_data"
    }
   ],
   "source": [
    "sales_by_quantity = df.groupby ('Quantity') ['Sales'].sum().sort_values (ascending=False)\n",
    "\n",
    "plt.figure(figsize=(10, 6))\n",
    "\n",
    "bars= plt.bar(sales_by_quantity.index, sales_by_quantity.values)\n",
    "\n",
    "plt.xticks(rotation=-90)\n",
    "\n",
    "plt.xlabel('Quantity')\n",
    "\n",
    "plt.ylabel('Total Sales')\n",
    "\n",
    "plt.title('Total Sales by Quantity')\n",
    "\n",
    "for bar in bars:\n",
    "\n",
    "    plt.text(bar.get_x() + bar.get_width() / 2, bar.get_height(),\n",
    "\n",
    "             f'{bar.get_height():,.0f}', ha='center', va='bottom', fontsize=8)\n",
    "\n",
    "plt.tight_layout()\n",
    "\n",
    "plt.show()"
   ]
  },
  {
   "cell_type": "code",
   "execution_count": 252,
   "id": "43dbcda6-fe5d-4616-a798-b5ca1d729e33",
   "metadata": {},
   "outputs": [
    {
     "data": {
      "image/png": "[encoded data removed]",
      "text/plain": [
       "<Figure size 800x500 with 1 Axes>"
      ]
     },
     "metadata": {},
     "output_type": "display_data"
    }
   ],
   "source": [
    "grouped = df.groupby(['Ship Mode', 'Category']) ['Sales'].sum().unstack()\n",
    "\n",
    "grouped = grouped[['Furniture', 'Office Supplies', 'Technology']]\n",
    "\n",
    "ax = grouped.plot(kind='bar', figsize=(8, 5), title='Ship mode by Category')\n",
    "\n",
    "plt.xlabel('Ship Mode')\n",
    "\n",
    "plt.ylabel('Total Sales')\n",
    "\n",
    "plt.legend(title='Category')\n",
    "\n",
    "plt.tight_layout()\n",
    "\n",
    "plt.show()"
   ]
  },
  {
   "cell_type": "code",
   "execution_count": null,
   "id": "ccf95778-a105-49ce-9b4f-615c7762508f",
   "metadata": {},
   "outputs": [],
   "source": []
  }
 ],
 "metadata": {
  "kernelspec": {
   "display_name": "Python 3 (ipykernel)",
   "language": "python",
   "name": "python3"
  },
  "language_info": {
   "codemirror_mode": {
    "name": "ipython",
    "version": 3
   },
   "file_extension": ".py",
   "mimetype": "text/x-python",
   "name": "python",
   "nbconvert_exporter": "python",
   "pygments_lexer": "ipython3",
   "version": "3.12.7"
  }
 },
 "nbformat": 4,
 "nbformat_minor": 5
}
